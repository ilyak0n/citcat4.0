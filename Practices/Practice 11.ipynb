{
  "nbformat": 4,
  "nbformat_minor": 0,
  "metadata": {
    "colab": {
      "provenance": [],
      "include_colab_link": true
    },
    "kernelspec": {
      "name": "python3",
      "display_name": "Python 3"
    },
    "language_info": {
      "name": "python"
    }
  },
  "cells": [
    {
      "cell_type": "markdown",
      "metadata": {
        "id": "view-in-github",
        "colab_type": "text"
      },
      "source": [
        "<a href=\"https://colab.research.google.com/github/ilyak0n/citcat4.0/blob/main/Practices/Practice%2011.ipynb\" target=\"_parent\"><img src=\"https://colab.research.google.com/assets/colab-badge.svg\" alt=\"Open In Colab\"/></a>"
      ]
    },
    {
      "cell_type": "markdown",
      "source": [
        "# **Практическая работа №11. Введение в ООП**\n",
        "\n",
        "\n"
      ],
      "metadata": {
        "id": "s-EuQCpnWXCn"
      }
    },
    {
      "cell_type": "markdown",
      "source": [
        "## **Задание 1. Напишите программу с классом Car**\n",
        "* Создайте конструктор класса Car.\n",
        "* Создайте атрибуты класса Car — color (цвет), type (тип), year (год).\n",
        "* Напишите пять методов:\n",
        "> 1. Запуск автомобиля (при его вызове выводится сообщение «Автомобиль заведен»)\n",
        "> 2. Отключение автомобиля (выводит сообщение «Автомобиль заглушен»)\n",
        "> 3. Присвоение автомобилю года выпуска\n",
        "> 4. Присвоение автомобилю типа\n",
        "> 5. Присвоение автомобилю цвета"
      ],
      "metadata": {
        "id": "OvDnozzI-g-6"
      }
    },
    {
      "cell_type": "code",
      "source": [
        "class Car():\n",
        "    def __init__(self,color,type,year):\n",
        "        self.color = color\n",
        "        self.type = type\n",
        "        self.year = year\n",
        "\n",
        "    def start(self):\n",
        "        return \"Автомобиль заведен\"\n",
        "\n",
        "    def end(self):\n",
        "        return \"Автомобиль заглушен\"\n",
        "\n",
        "    def set_year(self,year):\n",
        "        self.year = year\n",
        "    def set_type(self,type):\n",
        "        self.type = type\n",
        "    def set_color(self,color):\n",
        "        self.color = color"
      ],
      "metadata": {
        "id": "xMYBjxjy-hIE"
      },
      "execution_count": null,
      "outputs": []
    },
    {
      "cell_type": "markdown",
      "source": [
        "## **Задание 2. Создайте класс Sphere для представления сферы в трехмерном пространстве**\n"
      ],
      "metadata": {
        "id": "TQ5SpdjdbD4D"
      }
    },
    {
      "cell_type": "markdown",
      "source": [
        "Обеспечьте следующие методы класса:\n",
        "\n",
        "1. Конструктор, принимающий 4 действительных числа: радиус, и 3 координаты центра шара. Если конструктор вызывается без аргументов, создать объект сферы с единичным радиусом и центром в начале координат. Если конструктор вызывается с аргументом, создать объект сферы с соответствующим радиусом и центром в начале координат.\n",
        "\n",
        "2. Метод get_volume (), который возвращает действительное число — объем шара, ограниченной текущей сферой.\n",
        "\n",
        "3. Метод get_square (), который возвращает действительное число — площадь внешней поверхности сферы.\n",
        "\n",
        "4. Метод get_radius (), который возвращает действительное число — радиус сферы.\n",
        "\n",
        "5. Метод get_center (), который возвращает тьюпл с 3 действительными числами — координатами центра сферы в том же порядке, в каком они задаются в конструкторе.\n",
        "\n",
        "6. Метод set_radius (r), который принимает 1 аргумент — действительное число, и меняет радиус текущей сферы, ничего не возвращая.\n",
        "\n",
        "7. Метод set_center (x, y, z), который принимает 3 аргумента — действительных числа, и меняет координаты центра сферы, ничего не возвращая. Координаты задаются в том же порядке, что и в конструкторе.\n",
        "\n",
        "8. Метод is_point_inside (x, y, z), который принимает 3 аргумента — действительных числа — координаты некоторой точки в пространстве (в том же порядке, что и в конструкторе), и возвращает логическое значение True или False в зависимости от того, находится эта точка внутри сферы."
      ],
      "metadata": {
        "id": "Q5Ow51wfASZH"
      }
    },
    {
      "cell_type": "code",
      "source": [
        "# Тесты\n",
        "\n",
        "s0 = Sphere(0.5) # test sphere creation with radius and default center\n",
        "print(s0.get_center()) # (0.0, 0.0, 0.0)\n",
        "print(s0.get_volume()) # 0.523598775598\n",
        "print(s0.is_point_inside(0 , -1.5, 0)) # False\n",
        "s0.set_radius(1.6)\n",
        "print(s0.is_point_inside(0, -1.5, 0)) # True\n",
        "print(s0.get_radius()) # 1.6"
      ],
      "metadata": {
        "id": "xYx3bR2Lbv42"
      },
      "execution_count": null,
      "outputs": []
    },
    {
      "cell_type": "code",
      "source": [
        "from math import pi\n",
        "\n",
        "class Sphere():\n",
        "    def __init__(self,r=1.0,x=0.0,y=0.0,z=0.0):\n",
        "        self.r = r\n",
        "        self.x = x\n",
        "        self.y = y\n",
        "        self.z = z\n",
        "\n",
        "    def get_volume(self):\n",
        "        return (4/3) * pi * self.r**3\n",
        "    def get_square(self):\n",
        "        return 4 * pi * self.r**2\n",
        "    def get_radius(self):\n",
        "        return self.r\n",
        "    def get_center(self):\n",
        "        return (self.x, self.y, self.z)\n",
        "\n",
        "    def set_radius(self,r):\n",
        "        self.r = r\n",
        "    def set_center(self,x,y,z):\n",
        "        self.x = x\n",
        "        self.y = y\n",
        "        self.z = z\n",
        "\n",
        "    def is_point_inside(self,x,y,z):\n",
        "        if abs(x) <= self.r and abs(y) <= self.r and abs(z) <= self.r:\n",
        "            return True\n",
        "        else:\n",
        "            return False"
      ],
      "metadata": {
        "id": "d-vd-AYRdBId"
      },
      "execution_count": null,
      "outputs": []
    },
    {
      "cell_type": "markdown",
      "source": [
        "## **Задание 3. Создайте класс SuperStr, который наследует функциональность стандартного типа str и содержит 2 новых метода:**"
      ],
      "metadata": {
        "id": "UuJ9K_zAcaY_"
      }
    },
    {
      "cell_type": "markdown",
      "source": [
        "1. Метод is_repeatance (s), который принимает 1 аргумент s и возвращает True или False в зависимости от того, может ли текущая строку быть получена целым количеством повторов строки s. Вернуть False, если s не является строкой. Считать, что пустая строка не содержит повторов.\n",
        "\n",
        "2. Метод is_palindrom (), который возвращает True или False в зависимости от того, является ли строка палиндромом. Регистрами символов пренебрегать. Пустую строку считать палиндромом."
      ],
      "metadata": {
        "id": "GX99X81VchPW"
      }
    },
    {
      "cell_type": "code",
      "source": [
        "class SuperStr(str):\n",
        "    def __init__(self, stroke):\n",
        "        self.stroke = stroke\n",
        "\n",
        "    def is_repeatance(self, symbols):\n",
        "        if symbols:\n",
        "            try:\n",
        "                if len(self.stroke) % len(symbols) == 0:\n",
        "                    for i in range(len(self.stroke)):\n",
        "                        symbols = symbols * i\n",
        "                        if symbols == self.stroke:\n",
        "                            break\n",
        "                    return True\n",
        "                else:\n",
        "                    return False\n",
        "            except TypeError:\n",
        "                return False\n",
        "        else:\n",
        "            return False\n",
        "\n",
        "    def is_palindrom(self):\n",
        "        self.stroke.lower()\n",
        "        if self.stroke[:(len(self.stroke)//2)] == self.stroke[(len(self.stroke)//2):][::-1] or self.stroke[:len(self.stroke)//2] == self.stroke[(len(self.stroke)//2)+1:][::-1]:\n",
        "            return True\n",
        "        else:\n",
        "            return False"
      ],
      "metadata": {
        "id": "LtIAKDWFdEcr"
      },
      "execution_count": null,
      "outputs": []
    },
    {
      "cell_type": "code",
      "source": [
        "# Тесты\n",
        "\n",
        "s = SuperStr(\"123123123123\")\n",
        "print(s.is_repeatance(\"123\")) # True\n",
        "print(s.is_repeatance(\"123123\")) # True\n",
        "print(s.is_repeatance(\"123123123123\")) # True\n",
        "print(s.is_repeatance(\"12312\")) # False\n",
        "print(s.is_repeatance(123)) # False\n",
        "print(s.is_palindrom()) # False\n",
        "print(s) # 123123123123 (строка)\n",
        "print(int(s)) # 123123123123 (целое число)\n",
        "print(s + \"qwe\") # 123123123123qwe\n",
        "p = SuperStr(\"123_321\")\n",
        "print(p.is_palindrom()) # True"
      ],
      "metadata": {
        "id": "oRO3alwicoNp"
      },
      "execution_count": null,
      "outputs": []
    },
    {
      "cell_type": "markdown",
      "source": [
        "## **Задание 4. В коде ниже представлен класс преподавателей и класс студентов (вы можете взять этот код за основу или написать свой).**"
      ],
      "metadata": {
        "id": "m9EGwLY9jZbw"
      }
    },
    {
      "cell_type": "code",
      "source": [
        "class Student:\n",
        "    def __init__(self, name, surname, gender):\n",
        "        self.name = name\n",
        "        self.surname = surname\n",
        "        self.gender = gender\n",
        "        self.finished_courses = []\n",
        "        self.courses_in_progress = []\n",
        "        self.grades = {}\n",
        "\n",
        "    def add_courses(self, course_name):\n",
        "        self.finished_courses.append(course_name)\n",
        "\n",
        "\n",
        "class Mentor:\n",
        "    def __init__(self, name, surname):\n",
        "        self.name = name\n",
        "        self.surname = surname\n",
        "        self.courses_attached = []\n",
        "\n",
        "    def rate_hw(self, student, course, grade):\n",
        "        student.grades[course] = [grade]"
      ],
      "metadata": {
        "id": "PlqK9m7KrT6e"
      },
      "execution_count": null,
      "outputs": []
    },
    {
      "cell_type": "code",
      "source": [
        "best_student = Student('Ruoy', 'Eman', 'your_gender')\n",
        "cool_mentor = Mentor('Some', 'Buddy')\n",
        "cool_mentor.rate_hw(best_student, 'Python', 10)\n",
        "\n",
        "print(\"Имя студента: \", best_student.name)\n",
        "print(\"Имя преподавателя: \", cool_mentor.name)\n",
        "print(\"Оценки студента по курсам: \", best_student.grades)"
      ],
      "metadata": {
        "colab": {
          "base_uri": "https://localhost:8080/"
        },
        "id": "oNc1-dVaw3ee",
        "outputId": "7621e159-5ac4-48a7-8318-886013ba7692"
      },
      "execution_count": null,
      "outputs": [
        {
          "output_type": "stream",
          "name": "stdout",
          "text": [
            "Имя студента:  Ruoy\n",
            "Имя преподавателя:  Some\n",
            "Оценки студента по курсам:  {'Python': [10]}\n"
          ]
        }
      ]
    },
    {
      "cell_type": "markdown",
      "source": [
        "### **4.1. Наследование**"
      ],
      "metadata": {
        "id": "08FkYxULrxE-"
      }
    },
    {
      "cell_type": "markdown",
      "source": [
        "* Класс Mentor должен стать родительским классом для преподавателей. От него нужно реализовать наследование классов Lecturer (лекторы) и Reviewer (эксперты, проверяющие домашние задания).\n",
        "\n",
        "> Имя, фамилю и список закрепленных курсов логично реализовать на уровне родительского класса."
      ],
      "metadata": {
        "id": "YNjsCv5ItOii"
      }
    },
    {
      "cell_type": "code",
      "source": [
        "class Mentor:\n",
        "    def __init__(self, name, surname):\n",
        "        self.name = name\n",
        "        self.surname = surname\n",
        "        self.courses_attached = []\n",
        "\n",
        "    def rate_hw(self, student, course, grade):\n",
        "        student.grades[course] = [grade]\n",
        "\n",
        "class Lecturer(Mentor):\n",
        "    def set_courses(self, new_corses):\n",
        "        self.courses_attached.append(new_corses)\n",
        "\n",
        "    def get_courses(self):\n",
        "        return self.courses_attached\n",
        "\n",
        "class Reviewer(Mentor):\n",
        "    def set_courses(self, new_corses):\n",
        "        self.courses_attached.append(new_corses)\n",
        "\n",
        "    def get_courses(self):\n",
        "        return self.courses_attached\n",
        "\n",
        "lector = Lecturer(\"Aleksander\", \"Zakatov\")\n",
        "print(f\"Имя лектора: {lector.name}\")\n",
        "lector.set_courses(\"History\")\n",
        "print(f\"Курс, к которому прикреплен лектор: {lector.get_courses()}\")\n",
        "\n",
        "seminarist = Reviewer(\"Tatyana\", \"Koroleva\")\n",
        "print(f\"Имя эксперта: {seminarist.name}\")\n",
        "seminarist.set_courses(\"Math\")\n",
        "print(f\"Курс, к которому прикреплен эксперт: {seminarist.get_courses()}\")"
      ],
      "metadata": {
        "id": "1quZPRZKtIoc",
        "colab": {
          "base_uri": "https://localhost:8080/"
        },
        "outputId": "9f26fd8b-a782-47c6-8431-064fe8ce4bf8"
      },
      "execution_count": 17,
      "outputs": [
        {
          "output_type": "stream",
          "name": "stdout",
          "text": [
            "Имя лектора: Aleksander\n",
            "Курс, к которому прикреплен лектор: ['History']\n",
            "Имя эксперта: Tatyana\n",
            "Курс, к которому прикреплен эксперт: ['Math']\n"
          ]
        }
      ]
    },
    {
      "cell_type": "markdown",
      "source": [
        "### **4.2. Атрибуты и взаимодействие классов**"
      ],
      "metadata": {
        "id": "oL8kB-uUtH5K"
      }
    },
    {
      "cell_type": "markdown",
      "source": [
        "* Реализуйте возможность проставления оценок студентам только Reviewer-ам (реализуйте такой метод).\n",
        "\n",
        "* Реализуйте метод выставления оценок лекторам у класса Student (оценки по 10-балльной шкале, хранятся в атрибуте-словаре у Lecturer, в котором ключи – названия курсов, а значения – списки оценок). Лектор при этом должен быть закреплен за тем курсом, на который записан студент (реализовать проверку)."
      ],
      "metadata": {
        "id": "ddcuJFCksWsY"
      }
    },
    {
      "cell_type": "code",
      "source": [
        "from abc import ABC, abstractmethod\n",
        "\n",
        "\n",
        "class Student:\n",
        "    def __init__(self, name, surname, gender):\n",
        "        self.name = name\n",
        "        self.surname = surname\n",
        "        self.gender = gender\n",
        "        self.finished_courses = []\n",
        "        self.courses_in_progress = []\n",
        "        self.grades = {}\n",
        "\n",
        "    def add_courses(self, course_name):\n",
        "        self.finished_courses.append(course_name)\n",
        "\n",
        "    def rate_lectors(self, lector, course, grade):\n",
        "        lector.lector_grades[course] = [grade]\n",
        "\n",
        "    def set_courses_in_progress(self, new_course):\n",
        "        self.courses_in_progress.append(new_course)\n",
        "\n",
        "    def get_courses_in_progress(self):\n",
        "        return self.courses_in_progress\n",
        "\n",
        "\n",
        "class Mentor:\n",
        "    @abstractmethod\n",
        "    def rate_students(self, student, course, grade):\n",
        "        pass\n",
        "\n",
        "\n",
        "class Lecturer(Mentor):\n",
        "    def __init__(self, name, surname):\n",
        "        self.name = name\n",
        "        self.surname = surname\n",
        "        self.courses_attached = []\n",
        "        super().__init__()\n",
        "        self.lector_grades = {}\n",
        "\n",
        "    def set_courses(self, course):\n",
        "        self.courses_attached.append(course)\n",
        "\n",
        "    def get_courses(self):\n",
        "        return self.courses_attached\n",
        "\n",
        "\n",
        "class Reviewer(Mentor):\n",
        "    def __init__(self, name, surname):\n",
        "        self.name = name\n",
        "        self.surname = surname\n",
        "        self.courses_attached = []\n",
        "\n",
        "    def set_courses(self, course):\n",
        "        self.courses_attached.append(course)\n",
        "\n",
        "    def get_courses(self):\n",
        "        return self.courses_attached\n",
        "\n",
        "    def rate_students(self, student, course, grade):\n",
        "        student.grades[course] = [grade]\n",
        "\n",
        "\n",
        "best_student = Student('Ilya', 'Konushkin', 'Male')\n",
        "best_student.set_courses_in_progress(\"History\")\n",
        "lector = Lecturer(\"Aleksander\", \"Zakatov\")\n",
        "lector.set_courses(\"History\")\n",
        "seminarist = Reviewer(\"Anna\", \"Aristarhova\")\n",
        "\n",
        "seminarist.rate_students(best_student, \"Math\", 10)\n",
        "print(f\"Оценки студента: {best_student.grades}\")\n",
        "\n",
        "best_student.rate_lectors(lector, \"History\", 10)\n",
        "print(f\"Оценки лектора от студентов: {lector.lector_grades}\")\n",
        "\n",
        "print(\"\\nПроверка\")\n",
        "print(f\"За каким курсом закреплен лектор: {lector.get_courses()}\")\n",
        "print(f\"На какие курсы записан студент: {best_student.get_courses_in_progress()}\")"
      ],
      "metadata": {
        "id": "U30yyvuirv6H",
        "colab": {
          "base_uri": "https://localhost:8080/"
        },
        "outputId": "259b520a-2d43-4673-a5af-e712b63b4335"
      },
      "execution_count": 12,
      "outputs": [
        {
          "output_type": "stream",
          "name": "stdout",
          "text": [
            "Оценки студента: {'Math': [10]}\n",
            "Оценки лектора от студентов: {'History': [10]}\n",
            "\n",
            "Проверка\n",
            "За каким курсом закреплен лектор: ['History']\n",
            "На какие курсы записан студент: ['History']\n"
          ]
        }
      ]
    },
    {
      "cell_type": "markdown",
      "source": [
        "### **4.3. Полиморфизм и магические методы**"
      ],
      "metadata": {
        "id": "i6PrwEBSu39u"
      }
    },
    {
      "cell_type": "markdown",
      "source": [
        "Перегрузите магический метод \\_\\_str__ у всех классов.\n",
        "У проверяющих он должен выводить информацию в следующем виде:\n",
        "\n",
        "\n",
        "\n",
        "```\n",
        "print(some_reviewer)\n",
        "Имя: Some\n",
        "Фамилия: Buddy\n",
        "```\n",
        "\n",
        "У лекторов:\n",
        "\n",
        "\n",
        "\n",
        "```\n",
        "print(some_lecturer)\n",
        "Имя: Some\n",
        "Фамилия: Buddy\n",
        "Средняя оценка за лекции: 9.9\n",
        "```\n",
        "\n",
        "А у студентов так:\n",
        "\n",
        "\n",
        "\n",
        "```\n",
        "print(some_student)\n",
        "Имя: Ruoy\n",
        "Фамилия: Eman\n",
        "Средняя оценка за домашние задания: 9.9\n",
        "Курсы в процессе изучения: Python, Git\n",
        "Завершенные курсы: Введение в программирование\n",
        "```\n",
        "\n",
        "\n",
        "\n"
      ],
      "metadata": {
        "id": "GvmtjlnmvF8b"
      }
    },
    {
      "cell_type": "code",
      "source": [
        "from abc import ABC, abstractmethod\n",
        "\n",
        "\n",
        "class Student:\n",
        "    def __init__(self, name, surname, gender):\n",
        "        self.name = name\n",
        "        self.surname = surname\n",
        "        self.gender = gender\n",
        "        self.finished_courses = []\n",
        "        self.courses_in_progress = []\n",
        "        self.grades = {}\n",
        "\n",
        "    def add_courses(self, course_name):\n",
        "        self.finished_courses.append(course_name)\n",
        "\n",
        "    def rate_lectors(self, lector, course, grade):\n",
        "        lector.lector_grades[course] = grade\n",
        "\n",
        "    def set_courses_in_progress(self, new_course):\n",
        "        self.courses_in_progress.append(new_course)\n",
        "\n",
        "    def get_courses_in_progress(self):\n",
        "        return self.courses_in_progress\n",
        "\n",
        "    def __str__(self):\n",
        "        return f\"Имя: {self.name}\\nФамилия: {self.surname}\\nСредняя оценка за домашние задания: {sum(self.grades.values())/len(self.grades)}\\nКурсы в процессе изучения: {[i for i in self.courses_in_progress]}\\nЗавершенные курсы: {[i for i in self.finished_courses]}\"\n",
        "\n",
        "\n",
        "class Mentor:\n",
        "    @abstractmethod\n",
        "    def rate_students(self, student, course, grade):\n",
        "        pass\n",
        "\n",
        "\n",
        "class Lecturer(Mentor):\n",
        "    def __init__(self, name, surname):\n",
        "        self.name = name\n",
        "        self.surname = surname\n",
        "        self.courses_attached = []\n",
        "        super().__init__()\n",
        "        self.lector_grades = {}\n",
        "\n",
        "    def set_courses(self, course):\n",
        "        self.courses_attached.append(course)\n",
        "\n",
        "    def get_courses(self):\n",
        "        return self.courses_attached\n",
        "\n",
        "    def __str__(self):\n",
        "        return f\"Имя: {self.name}\\nФамилия: {self.surname}\\nСредняя оценка за лекции: {sum(self.lector_grades.values())/len(self.lector_grades)}\"\n",
        "\n",
        "\n",
        "class Reviewer(Mentor):\n",
        "    def __init__(self, name, surname):\n",
        "        self.name = name\n",
        "        self.surname = surname\n",
        "        self.courses_attached = []\n",
        "\n",
        "    def set_courses(self, course):\n",
        "        self.courses_attached.append(course)\n",
        "\n",
        "    def get_courses(self):\n",
        "        return self.courses_attached\n",
        "\n",
        "    def rate_students(self, student, course, grade):\n",
        "        student.grades[course] = grade\n",
        "\n",
        "    def __str__(self):\n",
        "        return f\"Имя: {self.name}\\nФамилия: {self.surname}\"\n",
        "\n",
        "\n",
        "best_student = Student('Ilya', 'Konushkin', 'Male')\n",
        "\n",
        "some_reviewer = Reviewer(\"Some\", \"Buddy\")\n",
        "print(some_reviewer, \"\\n\")\n",
        "some_lecturer = Lecturer(\"Some\", \"Buddy\")\n",
        "best_student.rate_lectors(some_lecturer, \"History\", 10)\n",
        "best_student.rate_lectors(some_lecturer, \"Phylosophy\", 9)\n",
        "best_student.rate_lectors(some_lecturer, \"Russian Language\", 8)\n",
        "print(some_lecturer, \"\\n\")\n",
        "some_student = Student(\"Ruoy\", \"Eman\", \"not sayed\")\n",
        "some_reviewer.rate_students(some_student, \"History\", 5)\n",
        "some_reviewer.rate_students(some_student, \"Phylosophy\", 6)\n",
        "some_reviewer.rate_students(some_student, \"Russian Language\", 5)\n",
        "some_student.set_courses_in_progress(\"Git\")\n",
        "some_student.add_courses(\"Введение в программирование\")\n",
        "print(some_student)\n"
      ],
      "metadata": {
        "id": "gCJAL_EmwU0b",
        "colab": {
          "base_uri": "https://localhost:8080/"
        },
        "outputId": "f207d8b7-2c51-4eae-c7f9-3898f961c82c"
      },
      "execution_count": 18,
      "outputs": [
        {
          "output_type": "stream",
          "name": "stdout",
          "text": [
            "Имя: Some\n",
            "Фамилия: Buddy \n",
            "\n",
            "Имя: Some\n",
            "Фамилия: Buddy\n",
            "Средняя оценка за лекции: 9.0 \n",
            "\n",
            "Имя: Ruoy\n",
            "Фамилия: Eman\n",
            "Средняя оценка за домашние задания: 5.333333333333333\n",
            "Курсы в процессе изучения: ['Git']\n",
            "Завершенные курсы: ['Введение в программирование']\n"
          ]
        }
      ]
    },
    {
      "cell_type": "markdown",
      "source": [
        "**Реализуйте перегрузку других магических методов на Ваш выбор (не менее трёх), из тех, что были изучены на паре, руководствуясь по смыслу контекстом представленных классов (студенты, преподаватели, оценки и т.д.)**"
      ],
      "metadata": {
        "id": "1DNE4TE3vfYI"
      }
    },
    {
      "cell_type": "code",
      "source": [
        "from abc import ABC, abstractmethod\n",
        "\n",
        "class Student:\n",
        "    def __init__(self, name, surname, gender):\n",
        "        self.name = name\n",
        "        self.surname = surname\n",
        "        self.gender = gender\n",
        "        self.finished_courses = []\n",
        "        self.courses_in_progress = []\n",
        "        self.grades = {}\n",
        "\n",
        "    def add_courses(self, course_name):\n",
        "        self.finished_courses.append(course_name)\n",
        "\n",
        "    def rate_lectors(self, lector, course, grade):\n",
        "        lector.lector_grades[course] = [grade]\n",
        "\n",
        "    def set_courses_in_progress(self, new_course):\n",
        "        self.courses_in_progress.append(new_course)\n",
        "\n",
        "    def get_courses_in_progress(self):\n",
        "        return self.courses_in_progress\n",
        "\n",
        "    def __call__(self):\n",
        "        print(\"Calling Student class\")\n",
        "\n",
        "\n",
        "class Mentor:\n",
        "    @abstractmethod\n",
        "    def rate_students(self, student, course, grade):\n",
        "        pass\n",
        "\n",
        "\n",
        "class Lecturer(Mentor):\n",
        "    def __init__(self, name, surname):\n",
        "        self.name = name\n",
        "        self.surname = surname\n",
        "        self.courses_attached = []\n",
        "        super().__init__()\n",
        "        self.lector_grades = {}\n",
        "\n",
        "    def set_courses(self, course):\n",
        "        self.courses_attached.append(course)\n",
        "\n",
        "    def get_courses(self):\n",
        "        return self.courses_attached\n",
        "\n",
        "    def __setitem__(self, index, value):\n",
        "        if index == 0:\n",
        "            self.name = value\n",
        "        elif index == 1:\n",
        "            self.surname = value\n",
        "        else:\n",
        "            raise IndexError(\"Index out of range\")\n",
        "\n",
        "\n",
        "class Reviewer(Mentor):\n",
        "    def __init__(self, name, surname):\n",
        "        self.name = name\n",
        "        self.surname = surname\n",
        "        self.courses_attached = []\n",
        "\n",
        "    def set_courses(self, course):\n",
        "        self.courses_attached.append(course)\n",
        "\n",
        "    def get_courses(self):\n",
        "        return self.courses_attached\n",
        "\n",
        "    def rate_students(self, student, course, grade):\n",
        "        student.grades[course] = [grade]\n",
        "\n",
        "    def __getitem__(self, index):\n",
        "        if index == 0:\n",
        "            return self.name\n",
        "        elif index == 1:\n",
        "            return self.surname\n",
        "        else:\n",
        "            raise IndexError(\"Index out of range\")\n",
        "\n",
        "sem = Reviewer(\"james\", \"bond\")\n",
        "print(\"Перегрузка оператора доступа к элементу по индексу\")\n",
        "print(sem[0], \"\\n\")\n",
        "lector = Lecturer(\"sasha\", \"belov\")\n",
        "print(\"Перегрузка оператора установки значения элемента по индексу\")\n",
        "lector[0] = \"lesha\"\n",
        "print(lector.name, \"\\n\")\n",
        "st = Student(\"ilya\", \"konushkin\", \"male\")\n",
        "print(\"Перегрузка оператора вызова объекта\")\n",
        "st()"
      ],
      "metadata": {
        "id": "WNCf9PPMu4Gv"
      },
      "execution_count": null,
      "outputs": []
    },
    {
      "cell_type": "markdown",
      "source": [
        "### **4.4. Тестирование**\n",
        "\n",
        "Создайте по 2 экземпляра каждого класса, вызовите все созданные методы, а также реализуйте две функции:\n",
        "\n",
        "* для подсчета средней оценки за домашние задания по всем студентам в рамках конкретного курса (в качестве аргументов принимаем список студентов и название курса);\n",
        "* для подсчета средней оценки за лекции всех лекторов в рамках курса (в качестве аргумента принимаем список лекторов и название курса)."
      ],
      "metadata": {
        "id": "X8xvLNT6u4Nn"
      }
    },
    {
      "cell_type": "code",
      "source": [
        "# Ваш код"
      ],
      "metadata": {
        "id": "uh8n08fdu4V_"
      },
      "execution_count": null,
      "outputs": []
    }
  ]
}